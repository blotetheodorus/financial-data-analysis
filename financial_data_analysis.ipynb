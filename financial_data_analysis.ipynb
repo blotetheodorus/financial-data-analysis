{
 "cells": [
  {
   "cell_type": "code",
   "id": "initial_id",
   "metadata": {
    "collapsed": true,
    "ExecuteTime": {
     "end_time": "2024-08-27T10:01:32.357707Z",
     "start_time": "2024-08-27T10:01:32.353907Z"
    }
   },
   "source": [
    "import pandas as pd\n",
    "import numpy as np\n",
    "import matplotlib.pyplot as plt\n",
    "import seaborn as sns\n",
    "import sqlalchemy\n",
    "import yfinance as yf\n",
    "import datetime as dt"
   ],
   "outputs": [],
   "execution_count": 4
  },
  {
   "metadata": {
    "ExecuteTime": {
     "end_time": "2024-08-27T10:01:33.709093Z",
     "start_time": "2024-08-27T10:01:32.938220Z"
    }
   },
   "cell_type": "code",
   "source": [
    "# Define ticker symbol and start/end dates\n",
    "ticker = 'TSLA'\n",
    "start = dt.datetime(2020, 1, 1)\n",
    "end = dt.datetime.now()\n",
    "\n",
    "# Download historical data\n",
    "stock_data = yf.download(ticker, start=start, end=end)\n",
    "\n",
    "stock_data.head()"
   ],
   "id": "2c12c805f6d8b68",
   "outputs": [
    {
     "name": "stderr",
     "output_type": "stream",
     "text": [
      "[*********************100%***********************]  1 of 1 completed\n"
     ]
    },
    {
     "data": {
      "text/plain": [
       "                 Open       High        Low      Close  Adj Close     Volume\n",
       "Date                                                                        \n",
       "2020-01-02  28.299999  28.713333  28.114000  28.684000  28.684000  142981500\n",
       "2020-01-03  29.366667  30.266666  29.128000  29.534000  29.534000  266677500\n",
       "2020-01-06  29.364668  30.104000  29.333332  30.102667  30.102667  151995000\n",
       "2020-01-07  30.760000  31.441999  30.224001  31.270666  31.270666  268231500\n",
       "2020-01-08  31.580000  33.232666  31.215334  32.809334  32.809334  467164500"
      ],
      "text/html": [
       "<div>\n",
       "<style scoped>\n",
       "    .dataframe tbody tr th:only-of-type {\n",
       "        vertical-align: middle;\n",
       "    }\n",
       "\n",
       "    .dataframe tbody tr th {\n",
       "        vertical-align: top;\n",
       "    }\n",
       "\n",
       "    .dataframe thead th {\n",
       "        text-align: right;\n",
       "    }\n",
       "</style>\n",
       "<table border=\"1\" class=\"dataframe\">\n",
       "  <thead>\n",
       "    <tr style=\"text-align: right;\">\n",
       "      <th></th>\n",
       "      <th>Open</th>\n",
       "      <th>High</th>\n",
       "      <th>Low</th>\n",
       "      <th>Close</th>\n",
       "      <th>Adj Close</th>\n",
       "      <th>Volume</th>\n",
       "    </tr>\n",
       "    <tr>\n",
       "      <th>Date</th>\n",
       "      <th></th>\n",
       "      <th></th>\n",
       "      <th></th>\n",
       "      <th></th>\n",
       "      <th></th>\n",
       "      <th></th>\n",
       "    </tr>\n",
       "  </thead>\n",
       "  <tbody>\n",
       "    <tr>\n",
       "      <th>2020-01-02</th>\n",
       "      <td>28.299999</td>\n",
       "      <td>28.713333</td>\n",
       "      <td>28.114000</td>\n",
       "      <td>28.684000</td>\n",
       "      <td>28.684000</td>\n",
       "      <td>142981500</td>\n",
       "    </tr>\n",
       "    <tr>\n",
       "      <th>2020-01-03</th>\n",
       "      <td>29.366667</td>\n",
       "      <td>30.266666</td>\n",
       "      <td>29.128000</td>\n",
       "      <td>29.534000</td>\n",
       "      <td>29.534000</td>\n",
       "      <td>266677500</td>\n",
       "    </tr>\n",
       "    <tr>\n",
       "      <th>2020-01-06</th>\n",
       "      <td>29.364668</td>\n",
       "      <td>30.104000</td>\n",
       "      <td>29.333332</td>\n",
       "      <td>30.102667</td>\n",
       "      <td>30.102667</td>\n",
       "      <td>151995000</td>\n",
       "    </tr>\n",
       "    <tr>\n",
       "      <th>2020-01-07</th>\n",
       "      <td>30.760000</td>\n",
       "      <td>31.441999</td>\n",
       "      <td>30.224001</td>\n",
       "      <td>31.270666</td>\n",
       "      <td>31.270666</td>\n",
       "      <td>268231500</td>\n",
       "    </tr>\n",
       "    <tr>\n",
       "      <th>2020-01-08</th>\n",
       "      <td>31.580000</td>\n",
       "      <td>33.232666</td>\n",
       "      <td>31.215334</td>\n",
       "      <td>32.809334</td>\n",
       "      <td>32.809334</td>\n",
       "      <td>467164500</td>\n",
       "    </tr>\n",
       "  </tbody>\n",
       "</table>\n",
       "</div>"
      ]
     },
     "execution_count": 5,
     "metadata": {},
     "output_type": "execute_result"
    }
   ],
   "execution_count": 5
  },
  {
   "metadata": {
    "ExecuteTime": {
     "end_time": "2024-08-27T10:05:01.359666Z",
     "start_time": "2024-08-27T10:05:01.348575Z"
    }
   },
   "cell_type": "code",
   "source": "stock_data.info()",
   "id": "650d1148e71b0653",
   "outputs": [
    {
     "name": "stdout",
     "output_type": "stream",
     "text": [
      "<class 'pandas.core.frame.DataFrame'>\n",
      "DatetimeIndex: 1170 entries, 2020-01-02 to 2024-08-26\n",
      "Data columns (total 6 columns):\n",
      " #   Column     Non-Null Count  Dtype  \n",
      "---  ------     --------------  -----  \n",
      " 0   Open       1170 non-null   float64\n",
      " 1   High       1170 non-null   float64\n",
      " 2   Low        1170 non-null   float64\n",
      " 3   Close      1170 non-null   float64\n",
      " 4   Adj Close  1170 non-null   float64\n",
      " 5   Volume     1170 non-null   int64  \n",
      "dtypes: float64(5), int64(1)\n",
      "memory usage: 64.0 KB\n"
     ]
    }
   ],
   "execution_count": 11
  },
  {
   "metadata": {
    "ExecuteTime": {
     "end_time": "2024-08-27T10:05:19.248077Z",
     "start_time": "2024-08-27T10:05:19.216553Z"
    }
   },
   "cell_type": "code",
   "source": "stock_data.describe()",
   "id": "8b6ed837e0d844c0",
   "outputs": [
    {
     "data": {
      "text/plain": [
       "              Open         High          Low        Close    Adj Close  \\\n",
       "count  1170.000000  1170.000000  1170.000000  1170.000000  1170.000000   \n",
       "mean    207.209676   211.868207   202.238224   207.150444   207.150444   \n",
       "std      80.511525    82.122325    78.607492    80.326545    80.326545   \n",
       "min      24.980000    26.990667    23.367332    24.081333    24.081333   \n",
       "25%     169.145000   174.332500   166.589996   170.089996   170.089996   \n",
       "50%     216.840004   221.771667   211.229996   216.570000   216.570000   \n",
       "75%     255.817505   260.682495   250.538334   256.519997   256.519997   \n",
       "max     411.470001   414.496674   405.666656   409.970001   409.970001   \n",
       "\n",
       "             Volume  \n",
       "count  1.170000e+03  \n",
       "mean   1.283304e+08  \n",
       "std    8.390149e+07  \n",
       "min    2.940180e+07  \n",
       "25%    7.707188e+07  \n",
       "50%    1.039106e+08  \n",
       "75%    1.485029e+08  \n",
       "max    9.140820e+08  "
      ],
      "text/html": [
       "<div>\n",
       "<style scoped>\n",
       "    .dataframe tbody tr th:only-of-type {\n",
       "        vertical-align: middle;\n",
       "    }\n",
       "\n",
       "    .dataframe tbody tr th {\n",
       "        vertical-align: top;\n",
       "    }\n",
       "\n",
       "    .dataframe thead th {\n",
       "        text-align: right;\n",
       "    }\n",
       "</style>\n",
       "<table border=\"1\" class=\"dataframe\">\n",
       "  <thead>\n",
       "    <tr style=\"text-align: right;\">\n",
       "      <th></th>\n",
       "      <th>Open</th>\n",
       "      <th>High</th>\n",
       "      <th>Low</th>\n",
       "      <th>Close</th>\n",
       "      <th>Adj Close</th>\n",
       "      <th>Volume</th>\n",
       "    </tr>\n",
       "  </thead>\n",
       "  <tbody>\n",
       "    <tr>\n",
       "      <th>count</th>\n",
       "      <td>1170.000000</td>\n",
       "      <td>1170.000000</td>\n",
       "      <td>1170.000000</td>\n",
       "      <td>1170.000000</td>\n",
       "      <td>1170.000000</td>\n",
       "      <td>1.170000e+03</td>\n",
       "    </tr>\n",
       "    <tr>\n",
       "      <th>mean</th>\n",
       "      <td>207.209676</td>\n",
       "      <td>211.868207</td>\n",
       "      <td>202.238224</td>\n",
       "      <td>207.150444</td>\n",
       "      <td>207.150444</td>\n",
       "      <td>1.283304e+08</td>\n",
       "    </tr>\n",
       "    <tr>\n",
       "      <th>std</th>\n",
       "      <td>80.511525</td>\n",
       "      <td>82.122325</td>\n",
       "      <td>78.607492</td>\n",
       "      <td>80.326545</td>\n",
       "      <td>80.326545</td>\n",
       "      <td>8.390149e+07</td>\n",
       "    </tr>\n",
       "    <tr>\n",
       "      <th>min</th>\n",
       "      <td>24.980000</td>\n",
       "      <td>26.990667</td>\n",
       "      <td>23.367332</td>\n",
       "      <td>24.081333</td>\n",
       "      <td>24.081333</td>\n",
       "      <td>2.940180e+07</td>\n",
       "    </tr>\n",
       "    <tr>\n",
       "      <th>25%</th>\n",
       "      <td>169.145000</td>\n",
       "      <td>174.332500</td>\n",
       "      <td>166.589996</td>\n",
       "      <td>170.089996</td>\n",
       "      <td>170.089996</td>\n",
       "      <td>7.707188e+07</td>\n",
       "    </tr>\n",
       "    <tr>\n",
       "      <th>50%</th>\n",
       "      <td>216.840004</td>\n",
       "      <td>221.771667</td>\n",
       "      <td>211.229996</td>\n",
       "      <td>216.570000</td>\n",
       "      <td>216.570000</td>\n",
       "      <td>1.039106e+08</td>\n",
       "    </tr>\n",
       "    <tr>\n",
       "      <th>75%</th>\n",
       "      <td>255.817505</td>\n",
       "      <td>260.682495</td>\n",
       "      <td>250.538334</td>\n",
       "      <td>256.519997</td>\n",
       "      <td>256.519997</td>\n",
       "      <td>1.485029e+08</td>\n",
       "    </tr>\n",
       "    <tr>\n",
       "      <th>max</th>\n",
       "      <td>411.470001</td>\n",
       "      <td>414.496674</td>\n",
       "      <td>405.666656</td>\n",
       "      <td>409.970001</td>\n",
       "      <td>409.970001</td>\n",
       "      <td>9.140820e+08</td>\n",
       "    </tr>\n",
       "  </tbody>\n",
       "</table>\n",
       "</div>"
      ]
     },
     "execution_count": 12,
     "metadata": {},
     "output_type": "execute_result"
    }
   ],
   "execution_count": 12
  },
  {
   "metadata": {
    "ExecuteTime": {
     "end_time": "2024-08-27T10:06:00.386772Z",
     "start_time": "2024-08-27T10:05:59.729883Z"
    }
   },
   "cell_type": "code",
   "source": "stock_data['Adj Close'].plot(title='TSLA Adj Close Data')",
   "id": "b995d4fa1ee42c36",
   "outputs": [
    {
     "data": {
      "text/plain": [
       "<Axes: title={'center': 'TSLA Adj Close Data'}, xlabel='Date'>"
      ]
     },
     "execution_count": 13,
     "metadata": {},
     "output_type": "execute_result"
    },
    {
     "data": {
      "text/plain": [
       "<Figure size 640x480 with 1 Axes>"
      ],
      "image/png": "[encoded data removed]"
     },
     "metadata": {},
     "output_type": "display_data"
    }
   ],
   "execution_count": 13
  },
  {
   "metadata": {
    "ExecuteTime": {
     "end_time": "2024-08-27T10:07:37.026589Z",
     "start_time": "2024-08-27T10:07:37.018288Z"
    }
   },
   "cell_type": "code",
   "source": [
    "null = stock_data.isnull().sum()\n",
    "print(null)"
   ],
   "id": "a07aa5260a735105",
   "outputs": [
    {
     "name": "stdout",
     "output_type": "stream",
     "text": [
      "Open         0\n",
      "High         0\n",
      "Low          0\n",
      "Close        0\n",
      "Adj Close    0\n",
      "Volume       0\n",
      "dtype: int64\n"
     ]
    }
   ],
   "execution_count": 14
  },
  {
   "metadata": {
    "ExecuteTime": {
     "end_time": "2024-08-27T10:07:58.617773Z",
     "start_time": "2024-08-27T10:07:58.596126Z"
    }
   },
   "cell_type": "code",
   "source": [
    "duplicates = stock_data.duplicated().sum()\n",
    "print(duplicates)"
   ],
   "id": "73675f83fae4452b",
   "outputs": [
    {
     "name": "stdout",
     "output_type": "stream",
     "text": [
      "0\n"
     ]
    }
   ],
   "execution_count": 15
  },
  {
   "metadata": {
    "ExecuteTime": {
     "end_time": "2024-08-27T10:08:48.900365Z",
     "start_time": "2024-08-27T10:08:48.884640Z"
    }
   },
   "cell_type": "code",
   "source": "stock_data.to_csv('stock_data.csv')",
   "id": "bea4f70d3528d218",
   "outputs": [],
   "execution_count": 16
  },
  {
   "metadata": {},
   "cell_type": "code",
   "outputs": [],
   "execution_count": null,
   "source": "",
   "id": "e66e8b9f0db975c1"
  }
 ],
 "metadata": {
  "kernelspec": {
   "display_name": "Python 3",
   "language": "python",
   "name": "python3"
  },
  "language_info": {
   "codemirror_mode": {
    "name": "ipython",
    "version": 2
   },
   "file_extension": ".py",
   "mimetype": "text/x-python",
   "name": "python",
   "nbconvert_exporter": "python",
   "pygments_lexer": "ipython2",
   "version": "2.7.6"
  }
 },
 "nbformat": 4,
 "nbformat_minor": 5
}
